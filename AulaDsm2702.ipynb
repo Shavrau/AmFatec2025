{
  "nbformat": 4,
  "nbformat_minor": 0,
  "metadata": {
    "colab": {
      "provenance": [],
      "authorship_tag": "ABX9TyPz09aU0sXxHTuWhMXKCXIA",
      "include_colab_link": true
    },
    "kernelspec": {
      "name": "python3",
      "display_name": "Python 3"
    },
    "language_info": {
      "name": "python"
    }
  },
  "cells": [
    {
      "cell_type": "markdown",
      "metadata": {
        "id": "view-in-github",
        "colab_type": "text"
      },
      "source": [
        "<a href=\"https://colab.research.google.com/github/Shavrau/AmFatec2025/blob/main/AulaDsm2702.ipynb\" target=\"_parent\"><img src=\"https://colab.research.google.com/assets/colab-badge.svg\" alt=\"Open In Colab\"/></a>"
      ]
    },
    {
      "cell_type": "markdown",
      "source": [
        "# Importações de bibliotecas\n"
      ],
      "metadata": {
        "id": "KJaUgLvYdwmB"
      }
    },
    {
      "cell_type": "code",
      "source": [
        "!pip install squarify --upgrade\n",
        "!pip install plotly --upgrade"
      ],
      "metadata": {
        "colab": {
          "base_uri": "https://localhost:8080/"
        },
        "id": "fKrQcAVYhxrF",
        "outputId": "8bf1f29b-1726-4bb7-e227-5ffa03fa84e4"
      },
      "execution_count": null,
      "outputs": [
        {
          "output_type": "stream",
          "name": "stdout",
          "text": [
            "Collecting squarify\n",
            "  Downloading squarify-0.4.4-py3-none-any.whl.metadata (600 bytes)\n",
            "Downloading squarify-0.4.4-py3-none-any.whl (4.1 kB)\n",
            "Installing collected packages: squarify\n",
            "Successfully installed squarify-0.4.4\n",
            "Requirement already satisfied: plotly in /usr/local/lib/python3.11/dist-packages (5.24.1)\n",
            "Collecting plotly\n",
            "  Downloading plotly-6.0.1-py3-none-any.whl.metadata (6.7 kB)\n",
            "Requirement already satisfied: narwhals>=1.15.1 in /usr/local/lib/python3.11/dist-packages (from plotly) (1.31.0)\n",
            "Requirement already satisfied: packaging in /usr/local/lib/python3.11/dist-packages (from plotly) (24.2)\n",
            "Downloading plotly-6.0.1-py3-none-any.whl (14.8 MB)\n",
            "\u001b[2K   \u001b[90m━━━━━━━━━━━━━━━━━━━━━━━━━━━━━━━━━━━━━━━━\u001b[0m \u001b[32m14.8/14.8 MB\u001b[0m \u001b[31m22.6 MB/s\u001b[0m eta \u001b[36m0:00:00\u001b[0m\n",
            "\u001b[?25hInstalling collected packages: plotly\n",
            "  Attempting uninstall: plotly\n",
            "    Found existing installation: plotly 5.24.1\n",
            "    Uninstalling plotly-5.24.1:\n",
            "      Successfully uninstalled plotly-5.24.1\n"
          ]
        }
      ]
    },
    {
      "cell_type": "code",
      "execution_count": null,
      "metadata": {
        "id": "kNB2v0sOdkd4"
      },
      "outputs": [],
      "source": [
        "import pandas as pd\n",
        "import numpy as np\n",
        "import seaborn as sns\n",
        "from matplotlib import pyplot as plt\n",
        "import plotly.express as px\n"
      ]
    },
    {
      "cell_type": "markdown",
      "source": [
        "#Carregamento dos Datasets"
      ],
      "metadata": {
        "id": "Ol4Mzkf9lmmp"
      }
    },
    {
      "cell_type": "code",
      "source": [
        "from google.colab import drive\n",
        "drive.mount('/content/drive')"
      ],
      "metadata": {
        "id": "Xmxi2TQFlrAP"
      },
      "execution_count": null,
      "outputs": []
    },
    {
      "cell_type": "code",
      "source": [
        "base_credit = pd.read_csv(\"/content/drive/MyDrive/Colab Notebooks/am5s/credit_data.csv\")\n",
        "base_credit.info()"
      ],
      "metadata": {
        "id": "y76eoVeq2YyI"
      },
      "execution_count": null,
      "outputs": []
    },
    {
      "cell_type": "markdown",
      "source": [
        "##Analise de anomalia"
      ],
      "metadata": {
        "id": "bTNTf2Monuiz"
      }
    },
    {
      "cell_type": "code",
      "source": [
        "np.unique(base_credit['default'], return_counts=True)"
      ],
      "metadata": {
        "id": "7F0dlYxmoBdE"
      },
      "execution_count": null,
      "outputs": []
    },
    {
      "cell_type": "code",
      "source": [
        "sns.countplot(x=base_credit['default'])"
      ],
      "metadata": {
        "id": "5vF3bXtCpsID"
      },
      "execution_count": null,
      "outputs": []
    },
    {
      "cell_type": "code",
      "source": [
        "plt.hist(x=base_credit['age'], edgecolor = 'black')"
      ],
      "metadata": {
        "id": "0M2LqtAoqSjd"
      },
      "execution_count": null,
      "outputs": []
    },
    {
      "cell_type": "code",
      "source": [
        "plt.hist(x=base_credit['income'], edgecolor = 'black')"
      ],
      "metadata": {
        "id": "FLlDMlaFsRpT"
      },
      "execution_count": null,
      "outputs": []
    },
    {
      "cell_type": "code",
      "source": [
        "plt.hist(x=base_credit['loan'], edgecolor = 'black')"
      ],
      "metadata": {
        "id": "SD66zhOcsVEx"
      },
      "execution_count": null,
      "outputs": []
    },
    {
      "cell_type": "markdown",
      "source": [
        "Observe as anomalias nos graficos de \"age\", todos os eixos de quadrante negativo"
      ],
      "metadata": {
        "id": "VXu6TIH9t-2v"
      }
    },
    {
      "cell_type": "code",
      "source": [
        "colors = ['red' if age < 0 else 'blue' for age in base_credit['age']]\n",
        "\n",
        "plt.scatter(x=base_credit['age'], y=base_credit['income'], edgecolor='black', color=colors)"
      ],
      "metadata": {
        "id": "zW4XEeCosz2T"
      },
      "execution_count": null,
      "outputs": []
    },
    {
      "cell_type": "code",
      "source": [
        "base_credit"
      ],
      "metadata": {
        "id": "qtTUblrB8A8h"
      },
      "execution_count": null,
      "outputs": []
    },
    {
      "cell_type": "code",
      "source": [
        "grafico_cruzado = px.scatter_matrix(base_credit, dimensions=['age', 'income', 'loan'], color='default')\n",
        "grafico_cruzado.show()"
      ],
      "metadata": {
        "id": "V7b1Ivpft17e"
      },
      "execution_count": null,
      "outputs": []
    },
    {
      "cell_type": "code",
      "source": [
        "s"
      ],
      "metadata": {
        "id": "jmkxFk34Ibwj"
      },
      "execution_count": null,
      "outputs": []
    },
    {
      "cell_type": "markdown",
      "source": [
        "#Tratamento de anomalias"
      ],
      "metadata": {
        "id": "NkCmywNBvgAh"
      }
    },
    {
      "cell_type": "code",
      "source": [
        "base_credit.mean()"
      ],
      "metadata": {
        "id": "jdCkWpB20yC6"
      },
      "execution_count": null,
      "outputs": []
    },
    {
      "cell_type": "code",
      "source": [
        "base_credit['age'].mean()"
      ],
      "metadata": {
        "id": "Y382TDsX04W5"
      },
      "execution_count": null,
      "outputs": []
    },
    {
      "cell_type": "code",
      "source": [
        "ageMedia = base_credit['age'][base_credit['age'] > 0].mean()\n",
        "base_credit.loc[base_credit['age'] < 0, 'age'] = base_credit['age'].mean()"
      ],
      "metadata": {
        "id": "LSUKzcuu1GlK"
      },
      "execution_count": null,
      "outputs": []
    },
    {
      "cell_type": "code",
      "source": [
        "base_credit.isnull()"
      ],
      "metadata": {
        "id": "bmIuM3qX4hCP"
      },
      "execution_count": null,
      "outputs": []
    },
    {
      "cell_type": "code",
      "source": [
        "base_credit.isnull().sum()"
      ],
      "metadata": {
        "id": "cBRr8fxi4p-W"
      },
      "execution_count": null,
      "outputs": []
    },
    {
      "cell_type": "code",
      "source": [
        "base_credit.loc[pd.isnull(base_credit['age'])]"
      ],
      "metadata": {
        "id": "epHmxn6U48im"
      },
      "execution_count": null,
      "outputs": []
    },
    {
      "cell_type": "code",
      "source": [
        "base_credit.loc[base_credit['age'].isnull(), 'age'] = base_credit['age'].mean()"
      ],
      "metadata": {
        "id": "5e_IJrV45Wy6"
      },
      "execution_count": null,
      "outputs": []
    },
    {
      "cell_type": "markdown",
      "source": [
        "#Visualizações"
      ],
      "metadata": {
        "id": "Y7F8-RAZY5_I"
      }
    },
    {
      "cell_type": "code",
      "source": [
        "base_credit"
      ],
      "metadata": {
        "id": "GRTtZpoDY-Ie"
      },
      "execution_count": null,
      "outputs": []
    },
    {
      "cell_type": "code",
      "source": [
        "# prompt: Usando o DataFrame base_credit: quero grafcos que criem visualizações semelhantes a esta mas com outras visualizações\n",
        "# grafico_cruzado = px.scatter_matrix(base_credit, dimensions=['age', 'income', 'loan'], color='default')\n",
        "# grafico_cruzado.show()\n",
        "\n",
        "import plotly.express as px\n",
        "\n",
        "# Scatter matrix plot\n",
        "grafico_cruzado = px.scatter_matrix(base_credit, dimensions=['age', 'income', 'loan'], color='default')\n",
        "grafico_cruzado.show()\n",
        "\n",
        "# Parallel coordinates plot\n",
        "grafico_paralelo = px.parallel_coordinates(base_credit, dimensions=['age', 'income', 'loan'], color='default')\n",
        "grafico_paralelo.show()\n",
        "\n",
        "\n",
        "# Parallel categories plot\n",
        "grafico_paralelo_categorias = px.parallel_categories(base_credit, dimensions=['age', 'income', 'loan'], color='default')\n",
        "grafico_paralelo_categorias.show()\n",
        "\n",
        "# 3D scatter plot\n",
        "grafico_3d = px.scatter_3d(base_credit, x='age', y='income', z='loan', color='default')\n",
        "grafico_3d.show()\n",
        "\n",
        "# Density heatmap\n",
        "grafico_heatmap = px.density_heatmap(base_credit, x='age', y='income', z='loan', marginal_x='histogram', marginal_y='histogram')\n",
        "grafico_heatmap.show()\n",
        "\n",
        "# Box plots\n",
        "grafico_box_age = px.box(base_credit, x=\"default\", y=\"age\", color=\"default\")\n",
        "grafico_box_age.show()\n",
        "\n",
        "grafico_box_income = px.box(base_credit, x=\"default\", y=\"income\", color=\"default\")\n",
        "grafico_box_income.show()\n",
        "\n",
        "grafico_box_loan = px.box(base_credit, x=\"default\", y=\"loan\", color=\"default\")\n",
        "grafico_box_loan.show()\n"
      ],
      "metadata": {
        "id": "stu3-22XaaA9"
      },
      "execution_count": null,
      "outputs": []
    },
    {
      "cell_type": "markdown",
      "source": [
        "#Analises estatisticas\n",
        "\n"
      ],
      "metadata": {
        "id": "nkDwzC3_G6ZN"
      }
    },
    {
      "cell_type": "markdown",
      "source": [
        "##Estatisicas basicas"
      ],
      "metadata": {
        "id": "QZLJhb_zIZ7F"
      }
    },
    {
      "cell_type": "code",
      "source": [
        "medias = base_credit[['income', 'age', 'loan']].mean()\n",
        "print(\"Médias:\")\n",
        "print(medias)\n",
        "\n",
        "medianas = base_credit[['income', 'age', 'loan']].median()\n",
        "print(\"\\nMedianas:\")\n",
        "print(medianas)\n",
        "\n",
        "desvios_padrao = base_credit[['income', 'age', 'loan']].std()\n",
        "print(\"\\nDesvios Padrão:\")\n",
        "print(desvios_padrao)"
      ],
      "metadata": {
        "id": "O8s0zKwIIgv5"
      },
      "execution_count": null,
      "outputs": []
    },
    {
      "cell_type": "markdown",
      "source": [
        "##Distribuições\n"
      ],
      "metadata": {
        "id": "fBZ7X1yxI1_P"
      }
    },
    {
      "cell_type": "code",
      "source": [
        "sns.set(style=\"whitegrid\")\n",
        "\n",
        "# Histograma e KDE para 'income'\n",
        "plt.figure(figsize=(8, 6))\n",
        "sns.histplot(base_credit['income'], kde=True, color='blue', bins=30)\n",
        "plt.title('Distribuição de Income')\n",
        "plt.xlabel('Income')\n",
        "plt.ylabel('Frequência')\n",
        "plt.show()\n",
        "\n",
        "# Histograma e KDE para 'age'\n",
        "plt.figure(figsize=(8, 6))\n",
        "sns.histplot(base_credit['age'], kde=True, color='green', bins=30)\n",
        "plt.title('Distribuição de Age')\n",
        "plt.xlabel('Age')\n",
        "plt.ylabel('Frequência')\n",
        "plt.show()\n",
        "\n",
        "# Histograma e KDE para 'loan'\n",
        "plt.figure(figsize=(8, 6))\n",
        "sns.histplot(base_credit['loan'], kde=True, color='red', bins=30)\n",
        "plt.title('Distribuição de Loan')\n",
        "plt.xlabel('Loan')\n",
        "plt.ylabel('Frequência')\n",
        "plt.show()"
      ],
      "metadata": {
        "id": "BiLmVRKsI56L"
      },
      "execution_count": null,
      "outputs": []
    },
    {
      "cell_type": "code",
      "source": [
        "# Calculando a matriz de correlação\n",
        "correlacao = base_credit[['income', 'age', 'loan', 'default']].corr()\n",
        "\n",
        "# Visualizando a matriz de correlação com um heatmap\n",
        "plt.figure(figsize=(8, 6))\n",
        "sns.heatmap(correlacao, annot=True, cmap='coolwarm', fmt='.2f')\n",
        "plt.title('Matriz de Correlação')\n",
        "plt.show()"
      ],
      "metadata": {
        "id": "-53AUIpOJfmS"
      },
      "execution_count": null,
      "outputs": []
    },
    {
      "cell_type": "code",
      "source": [
        "# Boxplot para 'income'\n",
        "plt.figure(figsize=(8, 6))\n",
        "sns.boxplot(x=base_credit['income'], color='blue')\n",
        "plt.title('Boxplot de Income')\n",
        "plt.show()\n",
        "\n",
        "# Boxplot para 'age'\n",
        "plt.figure(figsize=(8, 6))\n",
        "sns.boxplot(x=base_credit['age'], color='green')\n",
        "plt.title('Boxplot de Age')\n",
        "plt.show()\n",
        "\n",
        "# Boxplot para 'loan'\n",
        "plt.figure(figsize=(8, 6))\n",
        "sns.boxplot(x=base_credit['loan'], color='red')\n",
        "plt.title('Boxplot de Loan')\n",
        "plt.show()"
      ],
      "metadata": {
        "id": "DvUXDaeQJrU1"
      },
      "execution_count": null,
      "outputs": []
    },
    {
      "cell_type": "code",
      "source": [
        "from sklearn.preprocessing import StandardScaler\n"
      ],
      "metadata": {
        "id": "_Z14jmh2BOTv"
      },
      "execution_count": null,
      "outputs": []
    }
  ]
}